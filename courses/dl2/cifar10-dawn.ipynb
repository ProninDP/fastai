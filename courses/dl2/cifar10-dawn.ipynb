{
 "cells": [
  {
   "cell_type": "markdown",
   "metadata": {},
   "source": [
    "## CIFAR 10"
   ]
  },
  {
   "cell_type": "code",
   "execution_count": 1,
   "metadata": {},
   "outputs": [],
   "source": [
    "%matplotlib inline\n",
    "%reload_ext autoreload\n",
    "%autoreload 2"
   ]
  },
  {
   "cell_type": "code",
   "execution_count": 2,
   "metadata": {},
   "outputs": [],
   "source": [
    "from IPython.core.display import display\n",
    "from PIL import Image"
   ]
  },
  {
   "cell_type": "code",
   "execution_count": 3,
   "metadata": {},
   "outputs": [],
   "source": [
    "from fastai.conv_learner import *\n",
    "from fastai.models.cifar10.wideresnet import wrn_22\n",
    "torch.backends.cudnn.benchmark = True\n",
    "PATH = Path(\"data/cifar10/\")\n",
    "os.makedirs(PATH,exist_ok=True)"
   ]
  },
  {
   "cell_type": "code",
   "execution_count": 4,
   "metadata": {},
   "outputs": [],
   "source": [
    "classes = ('plane', 'car', 'bird', 'cat', 'deer', 'dog', 'frog', 'horse', 'ship', 'truck')\n",
    "stats = (np.array([ 0.4914 ,  0.48216,  0.44653]), np.array([ 0.24703,  0.24349,  0.26159]))\n",
    "\n",
    "bs=512*3#(512*4*1.3)\n",
    "sz=32"
   ]
  },
  {
   "cell_type": "code",
   "execution_count": 5,
   "metadata": {},
   "outputs": [],
   "source": [
    "tfms = tfms_from_stats(stats, sz, aug_tfms=[RandomCrop(sz), RandomFlip()], pad=sz//8)\n",
    "data = ImageClassifierData.from_paths(PATH, val_name='test', tfms=tfms, bs=bs)"
   ]
  },
  {
   "cell_type": "code",
   "execution_count": 6,
   "metadata": {},
   "outputs": [],
   "source": [
    "m = wrn_22()\n",
    "m = nn.DataParallel(m, [0,1,3])"
   ]
  },
  {
   "cell_type": "code",
   "execution_count": 9,
   "metadata": {},
   "outputs": [],
   "source": [
    "learn = ConvLearner.from_model_data(m, data)"
   ]
  },
  {
   "cell_type": "code",
   "execution_count": 10,
   "metadata": {},
   "outputs": [],
   "source": [
    "learn.crit = nn.CrossEntropyLoss()\n",
    "learn.metrics = [accuracy]"
   ]
  },
  {
   "cell_type": "code",
   "execution_count": null,
   "metadata": {},
   "outputs": [],
   "source": [
    "for x in range(1,4):\n",
    "    wd= (5-x)*1e-4\n",
    "    print('\\nwd: ' + str(wd))\n",
    "    #learn.lr_find2(wds=wd, start_lr=0.01, end_lr=10, num_it=100)\n",
    "    learn.lr_find(wds=wd, start_lr=0.1, end_lr=100)\n",
    "    learn.sched.plot(n_skip=0, n_skip_end=0)\n",
    "    display(Image.open('lr_loss_plot.png'))"
   ]
  },
  {
   "cell_type": "code",
   "execution_count": 11,
   "metadata": {},
   "outputs": [],
   "source": [
    "wd=2e-4\n",
    "lr=1.7"
   ]
  },
  {
   "cell_type": "code",
   "execution_count": 12,
   "metadata": {},
   "outputs": [
    {
     "data": {
      "application/vnd.jupyter.widget-view+json": {
       "model_id": "b515caf43f814e36836dfab1aa6b1094",
       "version_major": 2,
       "version_minor": 0
      },
      "text/plain": [
       "HBox(children=(IntProgress(value=0, description='Epoch', max=30), HTML(value='')))"
      ]
     },
     "metadata": {},
     "output_type": "display_data"
    },
    {
     "name": "stdout",
     "output_type": "stream",
     "text": [
      "epoch      trn_loss   val_loss   accuracy                 \n",
      "    0      1.836099   2.906796   0.139     \n",
      "    1      1.554884   2.171634   0.3539                   \n",
      "    2      1.320663   1.394464   0.544                    \n",
      "    3      1.124831   1.302039   0.565                    \n",
      "    4      0.977513   1.215186   0.6012                    \n",
      "    5      0.839722   0.968528   0.6671                    \n",
      "    6      0.730589   0.69855    0.7533                    \n",
      "    7      0.646078   0.737501   0.7444                    \n",
      "    8      0.577169   0.980248   0.6845                    \n",
      "    9      0.52127    0.741868   0.7463                    \n",
      "    10     0.469514   0.742958   0.7524                    \n",
      "    11     0.433083   0.902592   0.711                     \n",
      "    12     0.394949   0.705105   0.7791                    \n",
      "    13     0.369589   0.690192   0.7604                    \n",
      "    14     0.350849   0.655356   0.783                     \n",
      "    15     0.321433   0.752563   0.7647                    \n",
      "    16     0.302475   0.527932   0.822                     \n",
      "    17     0.284952   0.484656   0.8391                    \n",
      "    18     0.262965   0.54523    0.8195                    \n",
      "    19     0.23751    0.429556   0.8529                    \n",
      "    20     0.216032   0.433358   0.8588                    \n",
      "    21     0.194376   0.362204   0.8797                    \n",
      "    22     0.169858   0.302652   0.8977                    \n",
      "    23     0.137432   0.293307   0.9088                    \n",
      "    24     0.107453   0.248592   0.9177                    \n",
      "    25     0.085336   0.246659   0.9238                     \n",
      "    26     0.067259   0.245828   0.9241                     \n",
      "    27     0.055805   0.239786   0.9298                     \n",
      "    28     0.047026   0.239416   0.9287                     \n",
      "    29     0.040827   0.240624   0.9289                     \n",
      "\n",
      "CPU times: user 1h 3min 17s, sys: 9min 8s, total: 1h 12min 26s\n",
      "Wall time: 14min 30s\n"
     ]
    },
    {
     "data": {
      "text/plain": [
       "[array([0.24062]), 0.9289000024795532]"
      ]
     },
     "execution_count": 12,
     "metadata": {},
     "output_type": "execute_result"
    }
   ],
   "source": [
    "%time learn.fit(lr, 1, wds=wd, cycle_len=30, use_clr_beta=(20,20,0.95,0.85))"
   ]
  },
  {
   "cell_type": "code",
   "execution_count": null,
   "metadata": {},
   "outputs": [],
   "source": []
  }
 ],
 "metadata": {
  "kernelspec": {
   "display_name": "Python 3",
   "language": "python",
   "name": "python3"
  },
  "language_info": {
   "codemirror_mode": {
    "name": "ipython",
    "version": 3
   },
   "file_extension": ".py",
   "mimetype": "text/x-python",
   "name": "python",
   "nbconvert_exporter": "python",
   "pygments_lexer": "ipython3",
   "version": "3.6.5"
  },
  "toc": {
   "colors": {
    "hover_highlight": "#DAA520",
    "navigate_num": "#000000",
    "navigate_text": "#333333",
    "running_highlight": "#FF0000",
    "selected_highlight": "#FFD700",
    "sidebar_border": "#EEEEEE",
    "wrapper_background": "#FFFFFF"
   },
   "moveMenuLeft": true,
   "nav_menu": {
    "height": "266px",
    "width": "252px"
   },
   "navigate_menu": true,
   "number_sections": true,
   "sideBar": true,
   "threshold": 4,
   "toc_cell": false,
   "toc_section_display": "block",
   "toc_window_display": false,
   "widenNotebook": false
  }
 },
 "nbformat": 4,
 "nbformat_minor": 2
}
